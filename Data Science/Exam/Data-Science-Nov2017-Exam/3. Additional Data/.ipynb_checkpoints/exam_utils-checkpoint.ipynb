{
 "cells": [
  {
   "cell_type": "code",
   "execution_count": 1,
   "metadata": {
    "collapsed": true
   },
   "outputs": [],
   "source": [
    "%matplotlib inline"
   ]
  },
  {
   "cell_type": "code",
   "execution_count": 2,
   "metadata": {
    "collapsed": true
   },
   "outputs": [],
   "source": [
    "import numpy as np\n",
    "import pandas as pd\n",
    "import matplotlib.pyplot as plt"
   ]
  },
  {
   "cell_type": "code",
   "execution_count": null,
   "metadata": {
    "collapsed": true
   },
   "outputs": [],
   "source": [
    "class RegionInformation(object):\n",
    "    def __init__(self):\n",
    "        self.countries_by_region = pd.read_excel(\"./countries-by-region.xlsx\")\n",
    "        #East Asia and Pacific\n",
    "        self.eap = extract_countries_in_region('EAP'),\n",
    "        #Europe and Central Asia\n",
    "        self.eca = extract_countries_in_region('ECA'),\n",
    "        #Latin America and Carribean\n",
    "        self.lac = extract_countries_in_region('LAC'),\n",
    "        #Middle East and North Africa\n",
    "        self.mena = extract_countries_in_region('MENA'),\n",
    "        #North America\n",
    "        self.noa = extract_countries_in_region('NOA'),\n",
    "        #South Asia\n",
    "        self.sa = extract_countries_in_region('SA'),\n",
    "        #Sub-Saharan Africa\n",
    "        self.ssa = extract_countries_in_region('SSA')\n",
    "        \n",
    "    def extract_countries_in_region(region_name):\n",
    "        countries_full = self.countries_by_region.loc[countries_by_region['Region'] == region_name]\n",
    "        countries = np.array(countries_full['Country'])\n",
    "        return countries"
   ]
  }
 ],
 "metadata": {
  "kernelspec": {
   "display_name": "Python 3",
   "language": "python",
   "name": "python3"
  },
  "language_info": {
   "codemirror_mode": {
    "name": "ipython",
    "version": 3
   },
   "file_extension": ".py",
   "mimetype": "text/x-python",
   "name": "python",
   "nbconvert_exporter": "python",
   "pygments_lexer": "ipython3",
   "version": "3.6.3"
  }
 },
 "nbformat": 4,
 "nbformat_minor": 2
}
